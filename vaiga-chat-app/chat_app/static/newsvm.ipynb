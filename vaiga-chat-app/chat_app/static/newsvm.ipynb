{
 "cells": [
  {
   "cell_type": "code",
   "execution_count": 3,
   "id": "f2d5e8b6",
   "metadata": {},
   "outputs": [],
   "source": [
    "import pandas as pd\n",
    "import numpy as np\n",
    "import nltk\n",
    "import random\n",
    "from sklearn.svm import LinearSVC\n",
    "from nltk.classify.scikitlearn import SklearnClassifier\n",
    "from sklearn.metrics.pairwise import cosine_similarity\n",
    "from sklearn.feature_extraction.text import TfidfVectorizer\n",
    "import joblib"
   ]
  },
  {
   "cell_type": "code",
   "execution_count": 4,
   "id": "974a7ca4",
   "metadata": {},
   "outputs": [
    {
     "data": {
      "text/html": [
       "<div>\n",
       "<style scoped>\n",
       "    .dataframe tbody tr th:only-of-type {\n",
       "        vertical-align: middle;\n",
       "    }\n",
       "\n",
       "    .dataframe tbody tr th {\n",
       "        vertical-align: top;\n",
       "    }\n",
       "\n",
       "    .dataframe thead th {\n",
       "        text-align: right;\n",
       "    }\n",
       "</style>\n",
       "<table border=\"1\" class=\"dataframe\">\n",
       "  <thead>\n",
       "    <tr style=\"text-align: right;\">\n",
       "      <th></th>\n",
       "      <th>question</th>\n",
       "      <th>answer</th>\n",
       "    </tr>\n",
       "  </thead>\n",
       "  <tbody>\n",
       "    <tr>\n",
       "      <th>0</th>\n",
       "      <td>What are the different types of soil found in ...</td>\n",
       "      <td>The major soil types found in Kerala are laterite</td>\n",
       "    </tr>\n",
       "    <tr>\n",
       "      <th>1</th>\n",
       "      <td>How can I prepare my soil for planting?</td>\n",
       "      <td>To prepare your soil for planting</td>\n",
       "    </tr>\n",
       "    <tr>\n",
       "      <th>2</th>\n",
       "      <td>What are the best irrigation methods for farmi...</td>\n",
       "      <td>The best irrigation methods for farming in Ker...</td>\n",
       "    </tr>\n",
       "    <tr>\n",
       "      <th>3</th>\n",
       "      <td>How can I prevent soil erosion on my farm?</td>\n",
       "      <td>You can prevent soil erosion on your farm by p...</td>\n",
       "    </tr>\n",
       "    <tr>\n",
       "      <th>4</th>\n",
       "      <td>What are some common crop diseases found in Ke...</td>\n",
       "      <td>Some common crop diseases found in Kerala incl...</td>\n",
       "    </tr>\n",
       "    <tr>\n",
       "      <th>5</th>\n",
       "      <td>What is the best time to plant rice in Kerala?</td>\n",
       "      <td>The best time to plant rice in Kerala is durin...</td>\n",
       "    </tr>\n",
       "  </tbody>\n",
       "</table>\n",
       "</div>"
      ],
      "text/plain": [
       "                                            question  \\\n",
       "0  What are the different types of soil found in ...   \n",
       "1            How can I prepare my soil for planting?   \n",
       "2  What are the best irrigation methods for farmi...   \n",
       "3         How can I prevent soil erosion on my farm?   \n",
       "4  What are some common crop diseases found in Ke...   \n",
       "5     What is the best time to plant rice in Kerala?   \n",
       "\n",
       "                                              answer  \n",
       "0  The major soil types found in Kerala are laterite  \n",
       "1                  To prepare your soil for planting  \n",
       "2  The best irrigation methods for farming in Ker...  \n",
       "3  You can prevent soil erosion on your farm by p...  \n",
       "4  Some common crop diseases found in Kerala incl...  \n",
       "5  The best time to plant rice in Kerala is durin...  "
      ]
     },
     "execution_count": 4,
     "metadata": {},
     "output_type": "execute_result"
    }
   ],
   "source": [
    "data = pd.read_csv('data.csv')\n",
    "data.head(6)"
   ]
  },
  {
   "cell_type": "code",
   "execution_count": 5,
   "id": "716a420b",
   "metadata": {},
   "outputs": [],
   "source": [
    "vectorizer = TfidfVectorizer()\n",
    "X = vectorizer.fit_transform(data['question'].values.astype('U'))"
   ]
  },
  {
   "cell_type": "code",
   "execution_count": 6,
   "id": "0100470b",
   "metadata": {},
   "outputs": [
    {
     "data": {
      "text/plain": [
       "LinearSVC()"
      ]
     },
     "execution_count": 6,
     "metadata": {},
     "output_type": "execute_result"
    }
   ],
   "source": [
    "# Train the model and assign to a variable\n",
    "clf = LinearSVC()\n",
    "clf.fit(X, data['answer'])"
   ]
  },
  {
   "cell_type": "code",
   "execution_count": 7,
   "id": "4aaf7fac",
   "metadata": {},
   "outputs": [
    {
     "data": {
      "text/plain": [
       "['chatbot_model.joblib']"
      ]
     },
     "execution_count": 7,
     "metadata": {},
     "output_type": "execute_result"
    }
   ],
   "source": [
    "joblib.dump(clf, 'chatbot_model.joblib')"
   ]
  },
  {
   "cell_type": "code",
   "execution_count": 8,
   "id": "c3fdede8",
   "metadata": {},
   "outputs": [],
   "source": [
    "def chatbot_response(user_input):\n",
    "    input_vec = vectorizer.transform([user_input])\n",
    "    predicted = clf.predict(input_vec)\n",
    "    response = predicted[0]\n",
    "    return response\n"
   ]
  },
  {
   "cell_type": "code",
   "execution_count": 9,
   "id": "7710f2a5",
   "metadata": {},
   "outputs": [
    {
     "name": "stdout",
     "output_type": "stream",
     "text": [
      "The major soil types found in Kerala are laterite\n"
     ]
    }
   ],
   "source": [
    "user_input = 'What are the different types of soil found?'\n",
    "print(chatbot_response(user_input))"
   ]
  },
  {
   "cell_type": "code",
   "execution_count": null,
   "id": "a8dda397",
   "metadata": {},
   "outputs": [],
   "source": []
  }
 ],
 "metadata": {
  "kernelspec": {
   "display_name": "Python 3 (ipykernel)",
   "language": "python",
   "name": "python3"
  },
  "language_info": {
   "codemirror_mode": {
    "name": "ipython",
    "version": 3
   },
   "file_extension": ".py",
   "mimetype": "text/x-python",
   "name": "python",
   "nbconvert_exporter": "python",
   "pygments_lexer": "ipython3",
   "version": "3.9.13"
  }
 },
 "nbformat": 4,
 "nbformat_minor": 5
}
